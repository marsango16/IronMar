{
 "cells": [
  {
   "cell_type": "markdown",
   "id": "52db8ea0-3433-4f12-be04-d0b653cc493f",
   "metadata": {},
   "source": [
    "## Lab | Hypothesis Testing\n"
   ]
  },
  {
   "cell_type": "raw",
   "id": "e4e496b6-d0a5-4d1c-ad0b-2f706071e6b5",
   "metadata": {},
   "source": [
    "# It is assumed that the mean systolic blood pressure is μ = 120 mm Hg. \n",
    "# In the Honolulu Heart Study, a sample of n = 100 people had an average systolic blood pressure of 130.1 mm Hg with a standard deviation of 21.21 mm Hg. \n",
    "# Is the group significantly different (with respect to systolic blood pressure!) from the regular population?"
   ]
  },
  {
   "cell_type": "code",
   "execution_count": null,
   "id": "89f5147e-4ae2-4e95-bdb2-f995712098a8",
   "metadata": {},
   "outputs": [],
   "source": [
    "import numpy as np\n",
    "import pandas as pd\n",
    "import scipy.stats as stats\n",
    "import matplotlib.pyplot as plt\n",
    "import seaborn as sns\n",
    "\n",
    "%matplotlib inline"
   ]
  },
  {
   "cell_type": "code",
   "execution_count": 10,
   "id": "b94a21f1-a218-486c-81c4-523e11f0fd67",
   "metadata": {},
   "outputs": [],
   "source": [
    "# sample population\n",
    "n = 100 "
   ]
  },
  {
   "cell_type": "code",
   "execution_count": 13,
   "id": "1bb8f875-2950-4eab-bfc4-3f5921b1da3a",
   "metadata": {},
   "outputs": [],
   "source": [
    "# mean\n",
    "μ = 120"
   ]
  },
  {
   "cell_type": "code",
   "execution_count": 14,
   "id": "54adf5de-96ec-4c78-b66a-0d055445e247",
   "metadata": {},
   "outputs": [],
   "source": [
    "# std\n",
    "sdt = 21.21"
   ]
  },
  {
   "cell_type": "code",
   "execution_count": 15,
   "id": "48c0a4b4-1761-4658-aca5-3f113dd9345c",
   "metadata": {},
   "outputs": [],
   "source": [
    "# (x)\n",
    "x = 130.1"
   ]
  }
 ],
 "metadata": {
  "kernelspec": {
   "display_name": "Python 3 (ipykernel)",
   "language": "python",
   "name": "python3"
  },
  "language_info": {
   "codemirror_mode": {
    "name": "ipython",
    "version": 3
   },
   "file_extension": ".py",
   "mimetype": "text/x-python",
   "name": "python",
   "nbconvert_exporter": "python",
   "pygments_lexer": "ipython3",
   "version": "3.9.13"
  }
 },
 "nbformat": 4,
 "nbformat_minor": 5
}
