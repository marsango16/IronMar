{
 "cells": [
  {
   "cell_type": "markdown",
   "id": "52db8ea0-3433-4f12-be04-d0b653cc493f",
   "metadata": {},
   "source": [
    "## Lab | Hypothesis Testing\n"
   ]
  },
  {
   "cell_type": "raw",
   "id": "e4e496b6-d0a5-4d1c-ad0b-2f706071e6b5",
   "metadata": {},
   "source": [
    "# It is assumed that the mean systolic blood pressure is μ = 120 mm Hg. \n",
    "# In the Honolulu Heart Study, a sample of n = 100 people had an average systolic blood pressure of 130.1 mm Hg with a standard deviation of 21.21 mm Hg. \n",
    "# Is the group significantly different (with respect to systolic blood pressure!) from the regular population?"
   ]
  },
  {
   "cell_type": "code",
   "execution_count": 23,
   "id": "89f5147e-4ae2-4e95-bdb2-f995712098a8",
   "metadata": {},
   "outputs": [],
   "source": [
    "import numpy as np\n",
    "import pandas as pd\n",
    "import scipy.stats as stats\n",
    "import matplotlib.pyplot as plt\n",
    "import seaborn as sns\n",
    "from math import sqrt\n",
    "\n",
    "%matplotlib inline"
   ]
  },
  {
   "cell_type": "code",
   "execution_count": 17,
   "id": "b94a21f1-a218-486c-81c4-523e11f0fd67",
   "metadata": {},
   "outputs": [],
   "source": [
    "# n is the sample size (100)\n",
    "sample_size = 100"
   ]
  },
  {
   "cell_type": "code",
   "execution_count": 18,
   "id": "1bb8f875-2950-4eab-bfc4-3f5921b1da3a",
   "metadata": {},
   "outputs": [],
   "source": [
    "# μ is the assumed population mean (120 mm Hg)\n",
    "population_mean = 120 "
   ]
  },
  {
   "cell_type": "code",
   "execution_count": 19,
   "id": "54adf5de-96ec-4c78-b66a-0d055445e247",
   "metadata": {},
   "outputs": [],
   "source": [
    "# s is the sample standard deviation (21.21 mm Hg)\n",
    "sample_std = 21.21"
   ]
  },
  {
   "cell_type": "code",
   "execution_count": 20,
   "id": "48c0a4b4-1761-4658-aca5-3f113dd9345c",
   "metadata": {},
   "outputs": [],
   "source": [
    "# x̄ is the sample mean (130.1 mm Hg)\n",
    "sample_mean = 130.1"
   ]
  },
  {
   "cell_type": "code",
   "execution_count": 25,
   "id": "ec7b86e6-2dd8-468b-8d49-23ddeee7a1bb",
   "metadata": {},
   "outputs": [
    {
     "name": "stdout",
     "output_type": "stream",
     "text": [
      "4.761904761904759\n"
     ]
    }
   ],
   "source": [
    "# Plugging in the values, we get:\n",
    "t = (130.1 - 120) / (21.21 / sqrt(100))\n",
    "print(t)"
   ]
  },
  {
   "cell_type": "code",
   "execution_count": 26,
   "id": "2c01f258-3511-44ee-b1d2-924bc8edd973",
   "metadata": {},
   "outputs": [],
   "source": [
    "# Write down all the steps followed for setting up the test.\n",
    "1. Define the research question and identify the population of interest.\n",
    "2. Formulate the null and alternative hypotheses.\n",
    "3. Determine the appropriate test statistic and its sampling distribution.\n",
    "4. Specify the level of significance (alpha) for the test.\n",
    "5. Collect and analyze the data using appropriate statistical methods.\n",
    "6. Calculate the test statistic and the associated p-value.\n",
    "7. Compare the p-value with the level of significance to make a decision.\n",
    "8. Interpret the results and draw conclusions about the research question."
   ]
  },
  {
   "cell_type": "code",
   "execution_count": 27,
   "id": "8baaf0af-d042-4a67-ba9a-d37e761a0b95",
   "metadata": {},
   "outputs": [
    {
     "name": "stdout",
     "output_type": "stream",
     "text": [
      "t-test statistic: 4.761904761904759\n"
     ]
    }
   ],
   "source": [
    "# Calculate the test statistic by hand and also code it in Python. \n",
    "# It should be 4.76190. What decision can you make based on this calculated value?\n",
    "\n",
    "sample_mean = 130.1\n",
    "pop_mean = 120\n",
    "sample_std = 21.21\n",
    "sample_size = 100\n",
    "\n",
    "t = (sample_mean - pop_mean) / (sample_std / np.sqrt(sample_size))\n",
    "print('t-test statistic:', t)"
   ]
  }
 ],
 "metadata": {
  "kernelspec": {
   "display_name": "Python 3 (ipykernel)",
   "language": "python",
   "name": "python3"
  },
  "language_info": {
   "codemirror_mode": {
    "name": "ipython",
    "version": 3
   },
   "file_extension": ".py",
   "mimetype": "text/x-python",
   "name": "python",
   "nbconvert_exporter": "python",
   "pygments_lexer": "ipython3",
   "version": "3.9.13"
  }
 },
 "nbformat": 4,
 "nbformat_minor": 5
}
