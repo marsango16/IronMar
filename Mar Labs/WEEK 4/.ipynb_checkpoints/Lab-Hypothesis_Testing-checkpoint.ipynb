{
 "cells": [
  {
   "cell_type": "code",
   "execution_count": null,
   "id": "ce00e522-6402-4950-a449-740c0f44c854",
   "metadata": {},
   "outputs": [],
   "source": [
    "# Replacing null values\n",
    "# Replace missing values with means of the column (for numerical columns)\n",
    "# Pay attention that the Income feature for instance has 0s which is equivalent to null values\n",
    "# (We assume here that there is no such income with 0 as it refers to missing values) \n",
    "# Hint: numpy.nan is considered of float64 data type\n",
    "\n",
    "\n"
   ]
  },
  {
   "cell_type": "code",
   "execution_count": null,
   "id": "e8126fdf-a40c-4781-9527-aa1518d28cbe",
   "metadata": {},
   "outputs": [],
   "source": []
  }
 ],
 "metadata": {
  "kernelspec": {
   "display_name": "Python 3 (ipykernel)",
   "language": "python",
   "name": "python3"
  },
  "language_info": {
   "codemirror_mode": {
    "name": "ipython",
    "version": 3
   },
   "file_extension": ".py",
   "mimetype": "text/x-python",
   "name": "python",
   "nbconvert_exporter": "python",
   "pygments_lexer": "ipython3",
   "version": "3.9.13"
  }
 },
 "nbformat": 4,
 "nbformat_minor": 5
}
