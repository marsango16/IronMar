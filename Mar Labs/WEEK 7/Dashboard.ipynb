{
 "cells": [
  {
   "cell_type": "code",
   "execution_count": 2,
   "id": "10e27a9b-7342-4ce1-be3e-79012ea7b4d1",
   "metadata": {},
   "outputs": [
    {
     "data": {
      "text/html": [
       "\n",
       "<div id=\"tableauViz\"></div>\n",
       "<script src=\"https://public.tableau.com/app/profile/mar.s.nchez/viz/Exploratoryanalysisofvideo\"></script>\n",
       "<script>\n",
       "    function initializeViz() {\n",
       "        var placeholderDiv = document.getElementById(\"tableauViz\");\n",
       "        var url = \"https://public.tableau.com/views/MyDashboard/MyDashboard?:embed=y&:display_count=yes\";\n",
       "        var options = {\n",
       "            width: 800,\n",
       "            height: 600,\n",
       "            hideTabs: true,\n",
       "            hideToolbar: true\n",
       "        };\n",
       "        var viz = new tableau.Viz(placeholderDiv, url, options);\n",
       "    }\n",
       "    initializeViz();\n",
       "</script>\n"
      ],
      "text/plain": [
       "<IPython.core.display.HTML object>"
      ]
     },
     "execution_count": 2,
     "metadata": {},
     "output_type": "execute_result"
    }
   ],
   "source": [
    "from IPython.display import HTML\n",
    "\n",
    "html_string = '''\n",
    "<div id=\"tableauViz\"></div>\n",
    "<script src=\"https://public.tableau.com/app/profile/mar.s.nchez/viz/Exploratoryanalysisofvideo\"></script>\n",
    "<script>\n",
    "    function initializeViz() {\n",
    "        var placeholderDiv = document.getElementById(\"tableauViz\");\n",
    "        var url = \"https://public.tableau.com/views/MyDashboard/MyDashboard?:embed=y&:display_count=yes\";\n",
    "        var options = {\n",
    "            width: 800,\n",
    "            height: 600,\n",
    "            hideTabs: true,\n",
    "            hideToolbar: true\n",
    "        };\n",
    "        var viz = new tableau.Viz(placeholderDiv, url, options);\n",
    "    }\n",
    "    initializeViz();\n",
    "</script>\n",
    "'''\n",
    "\n",
    "HTML(html_string)\n"
   ]
  },
  {
   "cell_type": "code",
   "execution_count": 3,
   "id": "8d042896-e5c1-4248-ba69-007bec5d4eec",
   "metadata": {},
   "outputs": [
    {
     "data": {
      "text/plain": [
       "'\\n<div id=\"tableauViz\"></div>\\n<script src=\"https://public.tableau.com/app/profile/mar.s.nchez/viz/Exploratoryanalysisofvideo\"></script>\\n<script>\\n    function initializeViz() {\\n        var placeholderDiv = document.getElementById(\"tableauViz\");\\n        var url = \"https://public.tableau.com/views/MyDashboard/MyDashboard?:embed=y&:display_count=yes\";\\n        var options = {\\n            width: 800,\\n            height: 600,\\n            hideTabs: true,\\n            hideToolbar: true\\n        };\\n        var viz = new tableau.Viz(placeholderDiv, url, options);\\n    }\\n    initializeViz();\\n</script>\\n'"
      ]
     },
     "execution_count": 3,
     "metadata": {},
     "output_type": "execute_result"
    }
   ],
   "source": [
    "html_string"
   ]
  },
  {
   "cell_type": "code",
   "execution_count": 5,
   "id": "404e2fd0-47e1-40ff-a663-706c4ae83d07",
   "metadata": {},
   "outputs": [
    {
     "ename": "SyntaxError",
     "evalue": "invalid syntax (2156169656.py, line 1)",
     "output_type": "error",
     "traceback": [
      "\u001b[0;36m  File \u001b[0;32m\"/var/folders/9_/q2nj061x7q7_cmq16rjp2c400000gn/T/ipykernel_94762/2156169656.py\"\u001b[0;36m, line \u001b[0;32m1\u001b[0m\n\u001b[0;31m    https://nbviewer.jupyter.org/github/myusername/myrepo/blob/main/mynotebook.ipynb\u001b[0m\n\u001b[0m          ^\u001b[0m\n\u001b[0;31mSyntaxError\u001b[0m\u001b[0;31m:\u001b[0m invalid syntax\n"
     ]
    }
   ],
   "source": []
  }
 ],
 "metadata": {
  "kernelspec": {
   "display_name": "Python 3 (ipykernel)",
   "language": "python",
   "name": "python3"
  },
  "language_info": {
   "codemirror_mode": {
    "name": "ipython",
    "version": 3
   },
   "file_extension": ".py",
   "mimetype": "text/x-python",
   "name": "python",
   "nbconvert_exporter": "python",
   "pygments_lexer": "ipython3",
   "version": "3.9.13"
  }
 },
 "nbformat": 4,
 "nbformat_minor": 5
}
