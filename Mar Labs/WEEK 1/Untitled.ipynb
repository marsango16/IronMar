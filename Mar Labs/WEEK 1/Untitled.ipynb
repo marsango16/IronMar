{
 "cells": [
  {
   "cell_type": "code",
   "execution_count": 9,
   "id": "a8beed0d-3945-421c-a030-e6b9d3f7da22",
   "metadata": {},
   "outputs": [
    {
     "name": "stdout",
     "output_type": "stream",
     "text": [
      "tommaso is a student!\n",
      "mar is a student!\n"
     ]
    }
   ],
   "source": [
    "students = [\"tommaso\", \"mar\"] \n",
    "\n",
    "for student in students:\n",
    "    print(student + \" is a student!\")"
   ]
  },
  {
   "cell_type": "code",
   "execution_count": 11,
   "id": "62ef7d77-aaf5-41cc-9f80-3b37293e73d4",
   "metadata": {},
   "outputs": [
    {
     "name": "stdout",
     "output_type": "stream",
     "text": [
      "['Dmitri Risaev', 'Doris Angelica Blanco Garcia', 'Evans Kiplangat Rono', 'Festus Oladipo', 'Frederik Nurnus', 'Ilkay Müller', 'Jorge Aguilar', 'Juan Giussani', 'Juliette Degoul', 'Justyna Kurach', 'Mar Sánchez', 'Mathilde Marie Monge', 'Monika Radominska', 'Nagarjuna Jupally', 'Nandhini Natrayan', 'Santi Neves', 'Unmesh Gupta', 'Yaren Merve Akın']\n"
     ]
    }
   ],
   "source": [
    "students = [\"Dmitri Risaev\",\n",
    "\"Doris Angelica Blanco Garcia\",\n",
    "\"Evans Kiplangat Rono\",\n",
    "\"Festus Oladipo\",\n",
    "\"Frederik Nurnus\",\n",
    "\"Ilkay Müller\",\n",
    "\"Jorge Aguilar\",\n",
    "\"Juan Giussani\",\n",
    "\"Juliette Degoul\",\n",
    "\"Justyna Kurach\",\n",
    "\"Mar Sánchez\",\n",
    "\"Mathilde Marie Monge\",\n",
    "\"Monika Radominska\",\n",
    "\"Nagarjuna Jupally\",\n",
    "\"Nandhini Natrayan\",\n",
    "\"Santi Neves\",\n",
    "\"Unmesh Gupta\",\n",
    "\"Yaren Merve Akın\"]\n",
    "\n",
    "print(students)"
   ]
  },
  {
   "cell_type": "code",
   "execution_count": 20,
   "id": "3f6a1f3e-4932-4b11-8422-cdcfc2a428c8",
   "metadata": {},
   "outputs": [],
   "source": [
    "students = [\"Dmitri Risaev\",\n",
    "\"Tommaso Miti\",\n",
    "\"Evans Kiplangat Rono\",\n",
    "\"Festus Oladipo\",\n",
    "\"Frederik Nurnus\",\n",
    "\"Ilkay Müller\",\n",
    "\"Jorge Aguilar\",\n",
    "\"Juan Giussani\",\n",
    "\"Juliette Degoul\",\n",
    "\"Justyna Kurach\",\n",
    "\"Mar Sánchez\",\n",
    "\"Mathilde Marie Monge\",\n",
    "\"Monika Radominska\",\n",
    "\"Nagarjuna Jupally\",\n",
    "\"Nandhini Natrayan\",\n",
    "\"Santi Neves\",\n",
    "\"Unmesh Gupta\",\n",
    "\"Yaren Merve Akın\"]"
   ]
  },
  {
   "cell_type": "code",
   "execution_count": 21,
   "id": "212359f3-c8d4-4400-b692-e4f158ac7835",
   "metadata": {},
   "outputs": [
    {
     "data": {
      "text/plain": [
       "['Dmitri Risaev',\n",
       " 'Tommaso Miti',\n",
       " 'Evans Kiplangat Rono',\n",
       " 'Festus Oladipo',\n",
       " 'Frederik Nurnus',\n",
       " 'Ilkay Müller',\n",
       " 'Jorge Aguilar',\n",
       " 'Juan Giussani',\n",
       " 'Juliette Degoul',\n",
       " 'Justyna Kurach',\n",
       " 'Mar Sánchez',\n",
       " 'Mathilde Marie Monge',\n",
       " 'Monika Radominska',\n",
       " 'Nagarjuna Jupally',\n",
       " 'Nandhini Natrayan',\n",
       " 'Santi Neves',\n",
       " 'Unmesh Gupta',\n",
       " 'Yaren Merve Akın']"
      ]
     },
     "execution_count": 21,
     "metadata": {},
     "output_type": "execute_result"
    }
   ],
   "source": [
    "students"
   ]
  },
  {
   "cell_type": "code",
   "execution_count": 14,
   "id": "1babd78b-8001-4821-93fd-3f471cd3ae9f",
   "metadata": {},
   "outputs": [
    {
     "name": "stdout",
     "output_type": "stream",
     "text": [
      "Doris Angelica Blanco Garcia\n",
      "Monika Radominska\n",
      "Unmesh Gupta\n"
     ]
    }
   ],
   "source": [
    "for student in students:\n",
    "    if ( student[-1]=='a'):\n",
    "        print(student)\n",
    "    "
   ]
  },
  {
   "cell_type": "code",
   "execution_count": 26,
   "id": "e62fe409-a84e-476c-9d1f-1c55287a3ada",
   "metadata": {},
   "outputs": [
    {
     "name": "stdout",
     "output_type": "stream",
     "text": [
      "['Tommaso Miti', 'Juan Giussani']\n"
     ]
    }
   ],
   "source": [
    "students_with_i = [student for student in students if student.endswith('i')]\n",
    "print(students_with_i)"
   ]
  },
  {
   "cell_type": "code",
   "execution_count": 28,
   "id": "78f6994e-87f9-4c0a-872a-cee83511984c",
   "metadata": {},
   "outputs": [
    {
     "name": "stdout",
     "output_type": "stream",
     "text": [
      "Tommaso Miti\n",
      "Juan Giussani\n",
      "Mar Sánchez\n"
     ]
    }
   ],
   "source": [
    "for student in students:\n",
    "    if student.endswith('i') or student.endswith('z'):\n",
    "        print(student)\n"
   ]
  }
 ],
 "metadata": {
  "kernelspec": {
   "display_name": "Python 3 (ipykernel)",
   "language": "python",
   "name": "python3"
  },
  "language_info": {
   "codemirror_mode": {
    "name": "ipython",
    "version": 3
   },
   "file_extension": ".py",
   "mimetype": "text/x-python",
   "name": "python",
   "nbconvert_exporter": "python",
   "pygments_lexer": "ipython3",
   "version": "3.9.13"
  }
 },
 "nbformat": 4,
 "nbformat_minor": 5
}
