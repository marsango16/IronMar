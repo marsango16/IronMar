{
 "cells": [
  {
   "cell_type": "code",
   "execution_count": null,
   "id": "5fe985a5-282d-4987-93c6-a5de402ebb87",
   "metadata": {},
   "outputs": [],
   "source": [
    "# numpy exercises"
   ]
  },
  {
   "cell_type": "code",
   "execution_count": 3,
   "id": "c0b83003-a292-4bc0-bf7c-d77910d10904",
   "metadata": {},
   "outputs": [],
   "source": [
    "#### 1. Import the numpy package under the name `np`\n",
    "\n",
    "import numpy as np"
   ]
  },
  {
   "cell_type": "code",
   "execution_count": 6,
   "id": "43a045f8-64af-468a-869c-26178a304856",
   "metadata": {},
   "outputs": [
    {
     "name": "stdout",
     "output_type": "stream",
     "text": [
      "[0. 0. 0. 0. 0. 0. 0. 0. 0. 0.]\n"
     ]
    }
   ],
   "source": [
    "#### 2. Create a null vector of size 10\n",
    "\n",
    "# np.zeros is a function, we define the function witha list of 10 values of 0.\n",
    "\n",
    "import numpy as np\n",
    "\n",
    "\n",
    "x = np.zeros(10)\n",
    "print(x)"
   ]
  },
  {
   "cell_type": "code",
   "execution_count": 8,
   "id": "df7208e6-1363-40e0-883f-f14f93dd9b1c",
   "metadata": {},
   "outputs": [
    {
     "name": "stdout",
     "output_type": "stream",
     "text": [
      "[0. 0. 0. 0. 1. 0. 0. 0. 0. 0.]\n"
     ]
    }
   ],
   "source": [
    "#### 3. Create a null vector of size 10 but the fifth value which is 1\n",
    "\n",
    "x=np.zeros(10)\n",
    "x[4]=1\n",
    "print(x)"
   ]
  },
  {
   "cell_type": "code",
   "execution_count": 30,
   "id": "557e3763-e278-4b84-9c75-5943fd51ae44",
   "metadata": {},
   "outputs": [
    {
     "name": "stdout",
     "output_type": "stream",
     "text": [
      "[10 11 12 13 14 15 16 17 18 19 20 21 22 23 24 25 26 27 28 29 30 31 32 33\n",
      " 34 35 36 37 38 39 40 41 42 43 44 45 46 47 48 49]\n"
     ]
    }
   ],
   "source": [
    "#### 4. Create a vector with values ranging from 10 to 49\n",
    "\n",
    "# range from 10 to 50 (because 50 is excluded) \n",
    "\n",
    "import numpy as np\n",
    "v = np.arange(10,50)\n",
    "print(v)"
   ]
  },
  {
   "cell_type": "code",
   "execution_count": 44,
   "id": "993b0718-d19a-48c5-b3a3-9597c82177c6",
   "metadata": {},
   "outputs": [
    {
     "data": {
      "text/plain": [
       "array([[0, 1, 2],\n",
       "       [3, 4, 5],\n",
       "       [6, 7, 8]])"
      ]
     },
     "execution_count": 44,
     "metadata": {},
     "output_type": "execute_result"
    }
   ],
   "source": [
    "#### 5. Create a 3x3 matrix with values ranging from 0 to 8\n",
    "\n",
    "np.arange(0, 9).reshape((3,3))"
   ]
  },
  {
   "cell_type": "code",
   "execution_count": 51,
   "id": "afe999d8-ff7e-4546-9a10-54008bedc3ce",
   "metadata": {},
   "outputs": [
    {
     "name": "stdout",
     "output_type": "stream",
     "text": [
      "[0 1 4]\n"
     ]
    }
   ],
   "source": [
    "#### 6. Find indices of non-zero elements from [1,2,0,0,4,0] \n",
    "\n",
    "# nonzero = take out from list all repeting 0 \n",
    "\n",
    "import numpy as np\n",
    "\n",
    "x = np.array([1, 2, 0, 0, 4, 0])\n",
    "indices = np.nonzero(x)[0]\n",
    "\n",
    "print(indices)\n"
   ]
  },
  {
   "cell_type": "code",
   "execution_count": 54,
   "id": "e186bf0e-146b-4a03-8cad-b9c68f52aef9",
   "metadata": {},
   "outputs": [
    {
     "data": {
      "text/plain": [
       "array([[1., 0., 0.],\n",
       "       [0., 1., 0.],\n",
       "       [0., 0., 1.]])"
      ]
     },
     "execution_count": 54,
     "metadata": {},
     "output_type": "execute_result"
    }
   ],
   "source": [
    "#### 7. Create a 3x3 identity matrix \n",
    "\n",
    "np.eye(3)"
   ]
  },
  {
   "cell_type": "code",
   "execution_count": 9,
   "id": "686b0a5a-3da9-4909-9872-9162ca49d71f",
   "metadata": {},
   "outputs": [
    {
     "name": "stdout",
     "output_type": "stream",
     "text": [
      "[[[0.288768   0.81145874 0.44540699]\n",
      "  [0.05487376 0.36598579 0.52013116]\n",
      "  [0.33571456 0.24671878 0.52477882]]\n",
      "\n",
      " [[0.01662512 0.39407607 0.39131164]\n",
      "  [0.99074299 0.62139499 0.91792476]\n",
      "  [0.8636131  0.91128606 0.08318076]]\n",
      "\n",
      " [[0.12432585 0.74514334 0.33937723]\n",
      "  [0.30034707 0.93256751 0.72838381]\n",
      "  [0.29749474 0.36971093 0.14299586]]]\n"
     ]
    }
   ],
   "source": [
    "#### 8. Create a 3x3x3 array with random values \n",
    "\n",
    "x = np.random.random((3,3,3))\n",
    "print(x)"
   ]
  },
  {
   "cell_type": "code",
   "execution_count": 81,
   "id": "981d447c-1854-4d8f-af27-a14ddbe124a7",
   "metadata": {},
   "outputs": [
    {
     "name": "stdout",
     "output_type": "stream",
     "text": [
      "10x10 numbers/array:\n",
      "[[0.41346541 0.20559446 0.2781147  0.36704229 0.2328751  0.86796456\n",
      "  0.31483345 0.42329887 0.76417901 0.12892126]\n",
      " [0.95423914 0.96588458 0.44845023 0.28163421 0.62071928 0.37919974\n",
      "  0.06882843 0.08593156 0.94474353 0.04982473]\n",
      " [0.8088443  0.34923586 0.85769378 0.2179621  0.39549262 0.15891873\n",
      "  0.57950413 0.87467877 0.63455443 0.29285655]\n",
      " [0.08553397 0.86630542 0.37826147 0.42649433 0.23866087 0.00201418\n",
      "  0.70433942 0.58195459 0.18207479 0.30074913]\n",
      " [0.5024387  0.48572275 0.3013802  0.35449121 0.10423119 0.51234693\n",
      "  0.6292638  0.32781655 0.41812119 0.97721739]\n",
      " [0.71021342 0.74516216 0.17360132 0.49429517 0.86109504 0.33782352\n",
      "  0.49281054 0.22151487 0.83597659 0.35960785]\n",
      " [0.25945066 0.25832832 0.59976338 0.19424794 0.66696325 0.97802394\n",
      "  0.0321249  0.98993324 0.62584055 0.2296986 ]\n",
      " [0.77280558 0.96419241 0.14701747 0.6674397  0.07608017 0.36293402\n",
      "  0.29467401 0.73530986 0.19868134 0.42776649]\n",
      " [0.45499759 0.24357312 0.50772677 0.59162095 0.78528192 0.66147198\n",
      "  0.00656604 0.8545526  0.76071253 0.86314707]\n",
      " [0.05944482 0.40874986 0.29503776 0.06865085 0.73707724 0.65364705\n",
      "  0.62149775 0.0849685  0.35333792 0.11110741]]\n",
      "Minimum and Maximum Values:\n",
      "0.0020141835248227435 0.989933240300306\n"
     ]
    }
   ],
   "source": [
    "#### 9. Create a 10x10 array with random values and find the minimum and maximum values\n",
    "\n",
    "import numpy as np\n",
    "x = np.random.random((10,10))\n",
    "print(\"10x10 numbers/array:\")\n",
    "print(x) \n",
    "xmin, xmax = x.min(), x.max()\n",
    "print(\"Minimum and Maximum Values:\")\n",
    "print(xmin, xmax)"
   ]
  },
  {
   "cell_type": "code",
   "execution_count": 10,
   "id": "410ea47e-37bc-40f6-bedf-0c542003c296",
   "metadata": {},
   "outputs": [
    {
     "name": "stdout",
     "output_type": "stream",
     "text": [
      "30 numbers:\n",
      "[0.89717634 0.25764024 0.6000476  0.89029484 0.51815535 0.2675632\n",
      " 0.75486257 0.26739979 0.65716373 0.70413517 0.78652358 0.96112546\n",
      " 0.88553869 0.77287004 0.64278532 0.79489688 0.40556597 0.40944026\n",
      " 0.827661   0.23624631 0.18306842 0.4205216  0.27211235 0.07906601\n",
      " 0.29286237 0.64626795 0.97901064 0.71757296 0.70273473 0.52301709]\n",
      "mean value:\n",
      "0.45343970446774234\n"
     ]
    }
   ],
   "source": [
    "#### 10. Create a random vector of size 30 and find the mean value\n",
    "\n",
    "import numpy as np\n",
    "x = np.random.random(30)\n",
    "print(\"30 numbers:\")\n",
    "print(x)\n",
    "\n",
    "t = np.random.random(30)\n",
    "m = t.mean()\n",
    "print(\"mean value:\")\n",
    "print(m)"
   ]
  },
  {
   "cell_type": "code",
   "execution_count": 22,
   "id": "8496c63a-9b80-4193-aaff-ea538665268c",
   "metadata": {},
   "outputs": [
    {
     "name": "stdout",
     "output_type": "stream",
     "text": [
      "[[0 0 0 0 0]\n",
      " [2 0 0 0 0]\n",
      " [0 3 0 0 0]\n",
      " [0 0 4 0 0]\n",
      " [0 0 0 5 0]]\n"
     ]
    }
   ],
   "source": [
    "#### 11. Create a 5x5 matrix with values 1,2,3,4 just below the diagonal\n",
    "\n",
    "import numpy as np\n",
    "\n",
    "m = np.diag(np.arange(2, 6), k=-1)\n",
    "y = -1\n",
    "print(m)"
   ]
  },
  {
   "cell_type": "code",
   "execution_count": 91,
   "id": "e4b9a7bf-5e89-4c88-9394-0dfefdf01a06",
   "metadata": {},
   "outputs": [
    {
     "name": "stdout",
     "output_type": "stream",
     "text": [
      "Original Array:\n",
      "[[0.0099487  0.59432248 0.46437488]\n",
      " [0.84512058 0.20107841 0.27643746]\n",
      " [0.05889685 0.5934969  0.33986173]]\n",
      "After normalization:\n",
      "[[0.         0.69970481 0.54411097]\n",
      " [1.         0.22885075 0.31908253]\n",
      " [0.05860848 0.69871629 0.39502411]]\n"
     ]
    }
   ],
   "source": [
    "#### 12. Normalize a 5x5 random matrix DUDA\n",
    "\n",
    "import numpy as np\n",
    "\n",
    "x= np.random.random((3,3))\n",
    "\n",
    "\n",
    "print(\"Original Array:\")\n",
    "print(x)\n",
    "\n",
    "xmax, xmin = x.max(), x.min()\n",
    "x = (x - xmin)/(xmax - xmin)\n",
    "\n",
    "print(\"After normalization:\")\n",
    "print(x)\n"
   ]
  },
  {
   "cell_type": "code",
   "execution_count": 24,
   "id": "d3e06c10-b4db-4709-910b-70e676d9c060",
   "metadata": {},
   "outputs": [
    {
     "name": "stdout",
     "output_type": "stream",
     "text": [
      "Array1:  [ 0 10 20 40 60]\n",
      "Array2:  [10, 30, 40]\n",
      "Common values between two arrays:\n",
      "[10 40]\n"
     ]
    }
   ],
   "source": [
    "#### 13. How to find common values between two arrays?\n",
    "\n",
    "import numpy as np\n",
    "\n",
    "array1 = np.array([0, 10, 20, 40, 60])\n",
    "print(\"Array1: \",array1)\n",
    "\n",
    "array2 = [10, 30, 40]\n",
    "print(\"Array2: \",array2)\n",
    "print(\"Common values between two arrays:\")\n",
    "print(np.intersect1d(array1, array2))"
   ]
  },
  {
   "cell_type": "code",
   "execution_count": 28,
   "id": "e5c6ed50-5bfb-44dd-b4c0-45993c6058cc",
   "metadata": {},
   "outputs": [
    {
     "name": "stdout",
     "output_type": "stream",
     "text": [
      "Original array:\n",
      "\n",
      "[0.75692169 0.6281059  0.01017725 0.82556481 0.10072557 0.01596852\n",
      " 0.56456361 0.20141377 0.77294029 0.18345286]\n",
      "\n",
      "\n",
      "Sorted array:\n",
      "\n",
      "[0.01017725 0.01596852 0.10072557 0.18345286 0.20141377 0.56456361\n",
      " 0.6281059  0.75692169 0.77294029 0.82556481]\n"
     ]
    }
   ],
   "source": [
    "#### 14. Create a random vector of size 10 and sort it\n",
    "\n",
    "import numpy as np\n",
    "\n",
    "x = np.random.random(10)\n",
    "print(\"Original array:\" \"\\n\")\n",
    "print(x)\n",
    "\n",
    "x.sort()\n",
    "print( \"\\n\")\n",
    "print(\"Sorted array:\" \"\\n\")\n",
    "print(x)\n"
   ]
  },
  {
   "cell_type": "code",
   "execution_count": 102,
   "id": "8b82e4ea-1ddc-42e0-a7dc-9f57b8e34f1b",
   "metadata": {},
   "outputs": [
    {
     "name": "stdout",
     "output_type": "stream",
     "text": [
      "\n",
      "Original array:\n",
      "\n",
      "[0.83127602 0.09871824 0.65391037 0.28640524 0.88929149 0.23669208\n",
      " 0.88858086 0.43731679 0.23605378 0.34693646]\n",
      "\n",
      "Maximum value replaced by 0:\n",
      "\n",
      "[0.83127602 0.09871824 0.65391037 0.28640524 0.         0.23669208\n",
      " 0.88858086 0.43731679 0.23605378 0.34693646]\n"
     ]
    }
   ],
   "source": [
    "#### 15. Create random vector of size 10 and replace the maximum value by 0\n",
    "\n",
    "import numpy as np\n",
    "\n",
    "x = np.random.random(10)\n",
    "print(\"\\n\" \"Original array:\" \"\\n\")\n",
    "print(x)\n",
    "\n",
    "x[x.argmax()] = 0 \n",
    "print(\"\\n\" \"Maximum value replaced by 0:\" \"\\n\")\n",
    "print(x)\n"
   ]
  },
  {
   "cell_type": "code",
   "execution_count": 31,
   "id": "7a6fe7c8-2d70-4f9c-99a7-24de31904873",
   "metadata": {},
   "outputs": [
    {
     "name": "stdout",
     "output_type": "stream",
     "text": [
      "Original matrix:\n",
      "\n",
      "[[0.00098177 0.03125106 0.43484103 0.56317267 0.76286504]]\n",
      "\n",
      "Subtract the mean of each row of the said matrix: \n",
      "\n",
      "[[-0.35764054 -0.32737126  0.07621871  0.20455036  0.40424272]]\n"
     ]
    }
   ],
   "source": [
    "#### 16. Subtract the mean of each row of a matrix\n",
    "\n",
    "import numpy as np\n",
    "\n",
    "print(\"Original matrix:\\n\")\n",
    "X = np.random.rand(1, 5)\n",
    "print(X)\n",
    "\n",
    "print(\"\\nSubtract the mean of each row of the said matrix: \\n\")\n",
    "Y = X - X.mean(axis=1, keepdims=True) \n",
    "print(Y)\n"
   ]
  },
  {
   "cell_type": "code",
   "execution_count": 109,
   "id": "addf6c9f-d6c1-4586-bac1-31b54c9a32e0",
   "metadata": {},
   "outputs": [
    {
     "name": "stdout",
     "output_type": "stream",
     "text": [
      "Original array:\n",
      "[0 1 2 3 4 5 6 7 8 9]\n",
      "[9]\n"
     ]
    }
   ],
   "source": [
    "#### 17. How to get the n largest values of an array\n",
    "\n",
    "import numpy as np\n",
    "\n",
    "x = np.arange(10)\n",
    "print(\"Original array:\")\n",
    "print(x)\n",
    "\n",
    "np.random.shuffle(x)\n",
    "n = 1 \n",
    "print (x[np.argsort(x)[-n:]])\n"
   ]
  },
  {
   "cell_type": "code",
   "execution_count": 36,
   "id": "0e56a983-0ea8-4b13-ad5a-d4f84d6b6e61",
   "metadata": {},
   "outputs": [
    {
     "data": {
      "text/plain": [
       "<function numpy.mean(a, axis=None, dtype=None, out=None, keepdims=<no value>, *, where=<no value>)>"
      ]
     },
     "execution_count": 36,
     "metadata": {},
     "output_type": "execute_result"
    }
   ],
   "source": [
    "np.mean"
   ]
  },
  {
   "cell_type": "code",
   "execution_count": 46,
   "id": "bb8dcd68-d7d8-4ee8-8eb5-ba21038eb098",
   "metadata": {},
   "outputs": [
    {
     "name": "stdout",
     "output_type": "stream",
     "text": [
      "[[2.04181323e-01 4.40285623e-02 3.91133933e-01]\n",
      " [7.46079951e-01 8.52845553e-01 7.72568032e-01]\n",
      " [4.41243606e-02 7.71153576e-01 4.57000996e-01]\n",
      " [2.57228701e-01 1.00337240e-02 9.82735439e-01]\n",
      " [2.83095897e-01 4.97619940e-04 3.03629333e-01]]\n",
      "Help on function where in module numpy:\n",
      "\n",
      "where(...)\n",
      "    where(condition, [x, y])\n",
      "    \n",
      "    Return elements chosen from `x` or `y` depending on `condition`.\n",
      "    \n",
      "    .. note::\n",
      "        When only `condition` is provided, this function is a shorthand for\n",
      "        ``np.asarray(condition).nonzero()``. Using `nonzero` directly should be\n",
      "        preferred, as it behaves correctly for subclasses. The rest of this\n",
      "        documentation covers only the case where all three arguments are\n",
      "        provided.\n",
      "    \n",
      "    Parameters\n",
      "    ----------\n",
      "    condition : array_like, bool\n",
      "        Where True, yield `x`, otherwise yield `y`.\n",
      "    x, y : array_like\n",
      "        Values from which to choose. `x`, `y` and `condition` need to be\n",
      "        broadcastable to some shape.\n",
      "    \n",
      "    Returns\n",
      "    -------\n",
      "    out : ndarray\n",
      "        An array with elements from `x` where `condition` is True, and elements\n",
      "        from `y` elsewhere.\n",
      "    \n",
      "    See Also\n",
      "    --------\n",
      "    choose\n",
      "    nonzero : The function that is called when x and y are omitted\n",
      "    \n",
      "    Notes\n",
      "    -----\n",
      "    If all the arrays are 1-D, `where` is equivalent to::\n",
      "    \n",
      "        [xv if c else yv\n",
      "         for c, xv, yv in zip(condition, x, y)]\n",
      "    \n",
      "    Examples\n",
      "    --------\n",
      "    >>> a = np.arange(10)\n",
      "    >>> a\n",
      "    array([0, 1, 2, 3, 4, 5, 6, 7, 8, 9])\n",
      "    >>> np.where(a < 5, a, 10*a)\n",
      "    array([ 0,  1,  2,  3,  4, 50, 60, 70, 80, 90])\n",
      "    \n",
      "    This can be used on multidimensional arrays too:\n",
      "    \n",
      "    >>> np.where([[True, False], [True, True]],\n",
      "    ...          [[1, 2], [3, 4]],\n",
      "    ...          [[9, 8], [7, 6]])\n",
      "    array([[1, 8],\n",
      "           [3, 4]])\n",
      "    \n",
      "    The shapes of x, y, and the condition are broadcast together:\n",
      "    \n",
      "    >>> x, y = np.ogrid[:3, :4]\n",
      "    >>> np.where(x < y, x, 10 + y)  # both x and 10+y are broadcast\n",
      "    array([[10,  0,  0,  0],\n",
      "           [10, 11,  1,  1],\n",
      "           [10, 11, 12,  2]])\n",
      "    \n",
      "    >>> a = np.array([[0, 1, 2],\n",
      "    ...               [0, 2, 4],\n",
      "    ...               [0, 3, 6]])\n",
      "    >>> np.where(a < 4, a, -1)  # -1 is broadcast\n",
      "    array([[ 0,  1,  2],\n",
      "           [ 0,  2, -1],\n",
      "           [ 0,  3, -1]])\n",
      "\n"
     ]
    }
   ],
   "source": [
    "#### 18. Create a random 5*3 matrix and replace items that are larger than 4 by their squares ( Example:  6 --> 36) \n",
    "\n",
    "r6 = np.random.random((5,3))\n",
    "r6 = np.where(r6 >4, r6, r6**2)\n",
    "print(r6)\n",
    "\n",
    "help(np.where)"
   ]
  },
  {
   "cell_type": "code",
   "execution_count": 50,
   "id": "e1d7f959-0446-4666-82ab-34ebc5304b10",
   "metadata": {},
   "outputs": [
    {
     "name": "stdout",
     "output_type": "stream",
     "text": [
      "0    0.872949\n",
      "1    0.450715\n",
      "2    0.460473\n",
      "3    0.447751\n",
      "4    0.532134\n",
      "5    0.851033\n",
      "6    0.016921\n",
      "7    0.214459\n",
      "8    0.303826\n",
      "9    0.783855\n",
      "dtype: float64\n"
     ]
    }
   ],
   "source": [
    "import pandas as pd\n",
    "\n",
    "a = pd.Series(np.random.random(10))\n",
    "print(a)"
   ]
  }
 ],
 "metadata": {
  "kernelspec": {
   "display_name": "Python 3 (ipykernel)",
   "language": "python",
   "name": "python3"
  },
  "language_info": {
   "codemirror_mode": {
    "name": "ipython",
    "version": 3
   },
   "file_extension": ".py",
   "mimetype": "text/x-python",
   "name": "python",
   "nbconvert_exporter": "python",
   "pygments_lexer": "ipython3",
   "version": "3.9.13"
  }
 },
 "nbformat": 4,
 "nbformat_minor": 5
}
