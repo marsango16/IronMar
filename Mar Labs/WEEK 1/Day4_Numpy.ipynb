{
 "cells": [
  {
   "cell_type": "code",
   "execution_count": null,
   "id": "5fe985a5-282d-4987-93c6-a5de402ebb87",
   "metadata": {},
   "outputs": [],
   "source": [
    "# numpy exercises"
   ]
  },
  {
   "cell_type": "code",
   "execution_count": 3,
   "id": "c0b83003-a292-4bc0-bf7c-d77910d10904",
   "metadata": {},
   "outputs": [],
   "source": [
    "#### 1. Import the numpy package under the name `np`\n",
    "\n",
    "import numpy as np"
   ]
  },
  {
   "cell_type": "code",
   "execution_count": 4,
   "id": "43a045f8-64af-468a-869c-26178a304856",
   "metadata": {},
   "outputs": [
    {
     "name": "stdout",
     "output_type": "stream",
     "text": [
      "[0. 0. 0. 0. 0. 0. 0. 0. 0. 0.] \n",
      "\n"
     ]
    }
   ],
   "source": [
    "#### 2. Create a null vector of size 10\n",
    "\n",
    "a = np.zeros((10)) \n",
    "print(a, \"\\n\")"
   ]
  },
  {
   "cell_type": "code",
   "execution_count": 28,
   "id": "df7208e6-1363-40e0-883f-f14f93dd9b1c",
   "metadata": {},
   "outputs": [
    {
     "name": "stdout",
     "output_type": "stream",
     "text": [
      "[0. 0. 0. 0. 1. 0. 0. 0. 0. 0.]\n"
     ]
    }
   ],
   "source": [
    "#### 3. Create a null vector of size 10 but the fifth value which is 1\n",
    "\n",
    "x=np.zeros(10)\n",
    "x[4]=1\n",
    "print(x)"
   ]
  },
  {
   "cell_type": "code",
   "execution_count": 30,
   "id": "557e3763-e278-4b84-9c75-5943fd51ae44",
   "metadata": {},
   "outputs": [
    {
     "name": "stdout",
     "output_type": "stream",
     "text": [
      "[10 11 12 13 14 15 16 17 18 19 20 21 22 23 24 25 26 27 28 29 30 31 32 33\n",
      " 34 35 36 37 38 39 40 41 42 43 44 45 46 47 48 49]\n"
     ]
    }
   ],
   "source": [
    "#### 4. Create a vector with values ranging from 10 to 49\n",
    "\n",
    "import numpy as np\n",
    "v = np.arange(10,50)\n",
    "print(v)"
   ]
  },
  {
   "cell_type": "code",
   "execution_count": 44,
   "id": "993b0718-d19a-48c5-b3a3-9597c82177c6",
   "metadata": {},
   "outputs": [
    {
     "data": {
      "text/plain": [
       "array([[0, 1, 2],\n",
       "       [3, 4, 5],\n",
       "       [6, 7, 8]])"
      ]
     },
     "execution_count": 44,
     "metadata": {},
     "output_type": "execute_result"
    }
   ],
   "source": [
    "#### 5. Create a 3x3 matrix with values ranging from 0 to 8\n",
    "\n",
    "np.arange(0, 9).reshape((3,3))"
   ]
  },
  {
   "cell_type": "code",
   "execution_count": 51,
   "id": "afe999d8-ff7e-4546-9a10-54008bedc3ce",
   "metadata": {},
   "outputs": [
    {
     "name": "stdout",
     "output_type": "stream",
     "text": [
      "[0 1 4]\n"
     ]
    }
   ],
   "source": [
    "#### 6. Find indices of non-zero elements from [1,2,0,0,4,0] \n",
    "\n",
    "import numpy as np\n",
    "\n",
    "x = np.array([1, 2, 0, 0, 4, 0])\n",
    "indices = np.nonzero(x)[0]\n",
    "\n",
    "print(indices)\n"
   ]
  },
  {
   "cell_type": "code",
   "execution_count": 54,
   "id": "e186bf0e-146b-4a03-8cad-b9c68f52aef9",
   "metadata": {},
   "outputs": [
    {
     "data": {
      "text/plain": [
       "array([[1., 0., 0.],\n",
       "       [0., 1., 0.],\n",
       "       [0., 0., 1.]])"
      ]
     },
     "execution_count": 54,
     "metadata": {},
     "output_type": "execute_result"
    }
   ],
   "source": [
    "#### 7. Create a 3x3 identity matrix \n",
    "\n",
    "np.eye(3)"
   ]
  },
  {
   "cell_type": "code",
   "execution_count": 58,
   "id": "686b0a5a-3da9-4909-9872-9162ca49d71f",
   "metadata": {},
   "outputs": [
    {
     "name": "stdout",
     "output_type": "stream",
     "text": [
      "[[[0.93185098 0.92381495 0.11154123]\n",
      "  [0.28141862 0.13389158 0.55542119]\n",
      "  [0.50290219 0.32277395 0.0862373 ]]\n",
      "\n",
      " [[0.50919838 0.29864692 0.45171433]\n",
      "  [0.38934928 0.97090091 0.94703258]\n",
      "  [0.88450115 0.76732289 0.39547619]]\n",
      "\n",
      " [[0.50383838 0.69124959 0.01182852]\n",
      "  [0.65308359 0.87164833 0.82585552]\n",
      "  [0.94848912 0.86297362 0.65138476]]]\n"
     ]
    }
   ],
   "source": [
    "#### 8. Create a 3x3x3 array with random values \n",
    "\n",
    "import numpy as np\n",
    "x = np.random.random((3,3,3))\n",
    "print(x)\n"
   ]
  },
  {
   "cell_type": "code",
   "execution_count": 81,
   "id": "981d447c-1854-4d8f-af27-a14ddbe124a7",
   "metadata": {},
   "outputs": [
    {
     "name": "stdout",
     "output_type": "stream",
     "text": [
      "10x10 numbers/array:\n",
      "[[0.41346541 0.20559446 0.2781147  0.36704229 0.2328751  0.86796456\n",
      "  0.31483345 0.42329887 0.76417901 0.12892126]\n",
      " [0.95423914 0.96588458 0.44845023 0.28163421 0.62071928 0.37919974\n",
      "  0.06882843 0.08593156 0.94474353 0.04982473]\n",
      " [0.8088443  0.34923586 0.85769378 0.2179621  0.39549262 0.15891873\n",
      "  0.57950413 0.87467877 0.63455443 0.29285655]\n",
      " [0.08553397 0.86630542 0.37826147 0.42649433 0.23866087 0.00201418\n",
      "  0.70433942 0.58195459 0.18207479 0.30074913]\n",
      " [0.5024387  0.48572275 0.3013802  0.35449121 0.10423119 0.51234693\n",
      "  0.6292638  0.32781655 0.41812119 0.97721739]\n",
      " [0.71021342 0.74516216 0.17360132 0.49429517 0.86109504 0.33782352\n",
      "  0.49281054 0.22151487 0.83597659 0.35960785]\n",
      " [0.25945066 0.25832832 0.59976338 0.19424794 0.66696325 0.97802394\n",
      "  0.0321249  0.98993324 0.62584055 0.2296986 ]\n",
      " [0.77280558 0.96419241 0.14701747 0.6674397  0.07608017 0.36293402\n",
      "  0.29467401 0.73530986 0.19868134 0.42776649]\n",
      " [0.45499759 0.24357312 0.50772677 0.59162095 0.78528192 0.66147198\n",
      "  0.00656604 0.8545526  0.76071253 0.86314707]\n",
      " [0.05944482 0.40874986 0.29503776 0.06865085 0.73707724 0.65364705\n",
      "  0.62149775 0.0849685  0.35333792 0.11110741]]\n",
      "Minimum and Maximum Values:\n",
      "0.0020141835248227435 0.989933240300306\n"
     ]
    }
   ],
   "source": [
    "#### 9. Create a 10x10 array with random values and find the minimum and maximum values\n",
    "\n",
    "import numpy as np\n",
    "x = np.random.random((10,10))\n",
    "print(\"10x10 numbers/array:\")\n",
    "print(x) \n",
    "xmin, xmax = x.min(), x.max()\n",
    "print(\"Minimum and Maximum Values:\")\n",
    "print(xmin, xmax)"
   ]
  },
  {
   "cell_type": "code",
   "execution_count": 83,
   "id": "410ea47e-37bc-40f6-bedf-0c542003c296",
   "metadata": {},
   "outputs": [
    {
     "name": "stdout",
     "output_type": "stream",
     "text": [
      "30 numbers:\n",
      "[0.10048684 0.0265845  0.63424023 0.88511964 0.29487705 0.72299156\n",
      " 0.81969051 0.30274723 0.66434396 0.98608016 0.87828766 0.97062346\n",
      " 0.84109988 0.07484956 0.04671109 0.77060836 0.1570456  0.42171444\n",
      " 0.1604621  0.06171925 0.80835636 0.93072846 0.33952112 0.12746586\n",
      " 0.6367213  0.41776824 0.06841966 0.15194441 0.22759973 0.20414792]\n",
      "mean value:\n",
      "0.44848618938009394\n"
     ]
    }
   ],
   "source": [
    "#### 10. Create a random vector of size 30 and find the mean value\n",
    "\n",
    "import numpy as np\n",
    "x = np.random.random(30)\n",
    "print(\"30 numbers:\")\n",
    "print(x)\n",
    "\n",
    "Z = np.random.random(30)\n",
    "m = Z.mean()\n",
    "print(\"mean value:\")\n",
    "print(m)"
   ]
  },
  {
   "cell_type": "code",
   "execution_count": 86,
   "id": "8496c63a-9b80-4193-aaff-ea538665268c",
   "metadata": {},
   "outputs": [
    {
     "name": "stdout",
     "output_type": "stream",
     "text": [
      "[[1 0 0 0]\n",
      " [0 2 0 0]\n",
      " [0 0 3 0]\n",
      " [0 0 0 4]]\n"
     ]
    }
   ],
   "source": [
    "#### 11. Create a 5x5 matrix with values 1,2,3,4 just below the diagonal\n",
    "\n",
    "import numpy as np\n",
    "x = np.diag([1, 2, 3, 4])\n",
    "print(x)\n"
   ]
  },
  {
   "cell_type": "code",
   "execution_count": 91,
   "id": "e4b9a7bf-5e89-4c88-9394-0dfefdf01a06",
   "metadata": {},
   "outputs": [
    {
     "name": "stdout",
     "output_type": "stream",
     "text": [
      "Original Array:\n",
      "[[0.0099487  0.59432248 0.46437488]\n",
      " [0.84512058 0.20107841 0.27643746]\n",
      " [0.05889685 0.5934969  0.33986173]]\n",
      "After normalization:\n",
      "[[0.         0.69970481 0.54411097]\n",
      " [1.         0.22885075 0.31908253]\n",
      " [0.05860848 0.69871629 0.39502411]]\n"
     ]
    }
   ],
   "source": [
    "#### 12. Normalize a 5x5 random matrix DUDA\n",
    "\n",
    "import numpy as np\n",
    "x= np.random.random((3,3))\n",
    "print(\"Original Array:\")\n",
    "print(x)\n",
    "xmax, xmin = x.max(), x.min()\n",
    "x = (x - xmin)/(xmax - xmin)\n",
    "print(\"After normalization:\")\n",
    "print(x)\n"
   ]
  },
  {
   "cell_type": "code",
   "execution_count": 89,
   "id": "d3e06c10-b4db-4709-910b-70e676d9c060",
   "metadata": {},
   "outputs": [
    {
     "name": "stdout",
     "output_type": "stream",
     "text": [
      "Array1:  [ 0 10 20 40 60]\n",
      "Array2:  [10, 30, 40]\n",
      "Common values between two arrays:\n",
      "[10 40]\n"
     ]
    }
   ],
   "source": [
    "#### 13. How to find common values between two arrays?\n",
    "\n",
    "import numpy as np\n",
    "array1 = np.array([0, 10, 20, 40, 60])\n",
    "print(\"Array1: \",array1)\n",
    "array2 = [10, 30, 40]\n",
    "print(\"Array2: \",array2)\n",
    "print(\"Common values between two arrays:\")\n",
    "print(np.intersect1d(array1, array2))\n"
   ]
  },
  {
   "cell_type": "code",
   "execution_count": 94,
   "id": "e5c6ed50-5bfb-44dd-b4c0-45993c6058cc",
   "metadata": {},
   "outputs": [
    {
     "name": "stdout",
     "output_type": "stream",
     "text": [
      "Original array:\n",
      "[0.79282807 0.48461656 0.44612373 0.51762386 0.82730278 0.80794781\n",
      " 0.9705311  0.08059736 0.9278478  0.55273602]\n",
      "Sorted array:\n",
      "[0.08059736 0.44612373 0.48461656 0.51762386 0.55273602 0.79282807\n",
      " 0.80794781 0.82730278 0.9278478  0.9705311 ]\n"
     ]
    }
   ],
   "source": [
    "#### 14. Create a random vector of size 10 and sort it\n",
    "\n",
    "import numpy as np\n",
    "x = np.random.random(10)\n",
    "print(\"Original array:\")\n",
    "print(x)\n",
    "x.sort()\n",
    "print(\"Sorted array:\")\n",
    "print(x)\n"
   ]
  },
  {
   "cell_type": "code",
   "execution_count": 102,
   "id": "8b82e4ea-1ddc-42e0-a7dc-9f57b8e34f1b",
   "metadata": {},
   "outputs": [
    {
     "name": "stdout",
     "output_type": "stream",
     "text": [
      "\n",
      "Original array:\n",
      "\n",
      "[0.83127602 0.09871824 0.65391037 0.28640524 0.88929149 0.23669208\n",
      " 0.88858086 0.43731679 0.23605378 0.34693646]\n",
      "\n",
      "Maximum value replaced by 0:\n",
      "\n",
      "[0.83127602 0.09871824 0.65391037 0.28640524 0.         0.23669208\n",
      " 0.88858086 0.43731679 0.23605378 0.34693646]\n"
     ]
    }
   ],
   "source": [
    "#### 15. Create random vector of size 10 and replace the maximum value by 0\n",
    "\n",
    "import numpy as np\n",
    "x = np.random.random(10)\n",
    "print(\"\\n\" \"Original array:\" \"\\n\")\n",
    "print(x)\n",
    "x[x.argmax()] = 0 \n",
    "print(\"\\n\" \"Maximum value replaced by 0:\" \"\\n\")\n",
    "print(x)\n"
   ]
  },
  {
   "cell_type": "code",
   "execution_count": 108,
   "id": "7a6fe7c8-2d70-4f9c-99a7-24de31904873",
   "metadata": {},
   "outputs": [
    {
     "name": "stdout",
     "output_type": "stream",
     "text": [
      "Original matrix:\n",
      "\n",
      "[[0.2669491  0.70167233 0.81354661 0.09133496 0.46384827]]\n",
      "\n",
      "Subtract the mean of each row of the said matrix:\n",
      "\n",
      "[[-0.20052116  0.23420208  0.34607636 -0.3761353  -0.00362199]]\n"
     ]
    }
   ],
   "source": [
    "#### 16. Subtract the mean of each row of a matrix\n",
    "\n",
    "import numpy as np\n",
    "print(\"Original matrix:\\n\")\n",
    "X = np.random.rand(1, 5)\n",
    "print(X)\n",
    "print(\"\\nSubtract the mean of each row of the said matrix:\\n\")\n",
    "Y = X - X.mean(axis=1, keepdims=True)\n",
    "print(Y)\n"
   ]
  },
  {
   "cell_type": "code",
   "execution_count": 109,
   "id": "addf6c9f-d6c1-4586-bac1-31b54c9a32e0",
   "metadata": {},
   "outputs": [
    {
     "name": "stdout",
     "output_type": "stream",
     "text": [
      "Original array:\n",
      "[0 1 2 3 4 5 6 7 8 9]\n",
      "[9]\n"
     ]
    }
   ],
   "source": [
    "#### 17. How to get the n largest values of an array\n",
    "\n",
    "import numpy as np\n",
    "x = np.arange(10)\n",
    "print(\"Original array:\")\n",
    "print(x)\n",
    "np.random.shuffle(x)\n",
    "n = 1\n",
    "print (x[np.argsort(x)[-n:]])\n"
   ]
  },
  {
   "cell_type": "code",
   "execution_count": null,
   "id": "bb8dcd68-d7d8-4ee8-8eb5-ba21038eb098",
   "metadata": {},
   "outputs": [],
   "source": [
    "#### 18. Create a random 5*3 matrix and replace items that are larger than 4 by their squares ( Example:  6 --> 36) \n",
    "\n"
   ]
  }
 ],
 "metadata": {
  "kernelspec": {
   "display_name": "Python 3 (ipykernel)",
   "language": "python",
   "name": "python3"
  },
  "language_info": {
   "codemirror_mode": {
    "name": "ipython",
    "version": 3
   },
   "file_extension": ".py",
   "mimetype": "text/x-python",
   "name": "python",
   "nbconvert_exporter": "python",
   "pygments_lexer": "ipython3",
   "version": "3.9.13"
  }
 },
 "nbformat": 4,
 "nbformat_minor": 5
}
