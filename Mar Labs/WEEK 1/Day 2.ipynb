{
 "cells": [
  {
   "cell_type": "code",
   "execution_count": null,
   "id": "57677681-3164-4120-bf9b-d2e1d560ab64",
   "metadata": {
    "tags": []
   },
   "outputs": [],
   "source": [
    "# Challenge 1: Sets"
   ]
  },
  {
   "cell_type": "code",
   "execution_count": null,
   "id": "96189452-c549-4e82-894d-63846364e2f2",
   "metadata": {},
   "outputs": [],
   "source": []
  },
  {
   "cell_type": "code",
   "execution_count": null,
   "id": "1a76e60e-6d62-46b7-8684-d2598743c11c",
   "metadata": {},
   "outputs": [],
   "source": []
  },
  {
   "cell_type": "code",
   "execution_count": null,
   "id": "745ef05b-838e-419c-a1e3-5e6a04a2585d",
   "metadata": {},
   "outputs": [],
   "source": []
  },
  {
   "cell_type": "code",
   "execution_count": null,
   "id": "ab226715-b27d-4b35-bb3f-26f27d9c9534",
   "metadata": {},
   "outputs": [],
   "source": []
  }
 ],
 "metadata": {
  "kernelspec": {
   "display_name": "Python 3 (ipykernel)",
   "language": "python",
   "name": "python3"
  },
  "language_info": {
   "codemirror_mode": {
    "name": "ipython",
    "version": 3
   },
   "file_extension": ".py",
   "mimetype": "text/x-python",
   "name": "python",
   "nbconvert_exporter": "python",
   "pygments_lexer": "ipython3",
   "version": "3.9.13"
  }
 },
 "nbformat": 4,
 "nbformat_minor": 5
}
