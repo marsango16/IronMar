{
 "cells": [
  {
   "cell_type": "code",
   "execution_count": null,
   "id": "1f768c38-34f5-489d-a9d6-08fdbf840618",
   "metadata": {},
   "outputs": [],
   "source": [
    "# Concatenate Strings\n",
    "# Al definir las variables, no se pueden incluir espacios en los nombres de las variables. \n",
    "# En lugar de \"string 1\", \"string 2\", etc., deben ser \"string1\", \"string2\", etc.\n",
    "\n",
    "string1 = \"Tommaso\"\n",
    "string2 = \"es\"\n",
    "string3 = \"mi\"\n",
    "string4 = \"chef\"\n",
    "\n",
    "print(string1+\" \"+string2+\" \"+string3+\" \"+string4)\n"
   ]
  },
  {
   "cell_type": "code",
   "execution_count": null,
   "id": "aa2a7c2e-7407-47da-b1c5-2e167da24ae7",
   "metadata": {},
   "outputs": [],
   "source": [
    "students = [\"tommaso\", \"mar\"] \n",
    "\n",
    "for student in students:\n",
    "    print(student + \" is a student!\")"
   ]
  },
  {
   "cell_type": "code",
   "execution_count": 4,
   "id": "4410cb7d-52b1-4031-be22-61e48bda3482",
   "metadata": {},
   "outputs": [
    {
     "ename": "NameError",
     "evalue": "name 'keys' is not defined",
     "output_type": "error",
     "traceback": [
      "\u001b[0;31m---------------------------------------------------------------------------\u001b[0m",
      "\u001b[0;31mNameError\u001b[0m                                 Traceback (most recent call last)",
      "\u001b[0;32m/var/folders/9_/q2nj061x7q7_cmq16rjp2c400000gn/T/ipykernel_4978/884596834.py\u001b[0m in \u001b[0;36m<module>\u001b[0;34m\u001b[0m\n\u001b[1;32m      4\u001b[0m \u001b[0;34m\u001b[0m\u001b[0m\n\u001b[1;32m      5\u001b[0m \u001b[0mvalues\u001b[0m \u001b[0;34m=\u001b[0m\u001b[0;34m[\u001b[0m\u001b[0;34m]\u001b[0m\u001b[0;34m\u001b[0m\u001b[0;34m\u001b[0m\u001b[0m\n\u001b[0;32m----> 6\u001b[0;31m \u001b[0;32mfor\u001b[0m \u001b[0mkeys\u001b[0m \u001b[0;32min\u001b[0m \u001b[0mkeys\u001b[0m\u001b[0;34m:\u001b[0m\u001b[0;34m\u001b[0m\u001b[0;34m\u001b[0m\u001b[0m\n\u001b[0m\u001b[1;32m      7\u001b[0m      \u001b[0mvalues\u001b[0m\u001b[0;34m.\u001b[0m\u001b[0mappend\u001b[0m\u001b[0;34m(\u001b[0m\u001b[0mword_freq\u001b[0m\u001b[0;34m[\u001b[0m\u001b[0mkey\u001b[0m\u001b[0;34m]\u001b[0m\u001b[0;34m)\u001b[0m\u001b[0;34m\u001b[0m\u001b[0;34m\u001b[0m\u001b[0m\n",
      "\u001b[0;31mNameError\u001b[0m: name 'keys' is not defined"
     ]
    }
   ],
   "source": [
    "# DICTIONARIES (REPASAR)\n",
    "\n",
    "word_freq = {'love': 25, 'conversation': 1, 'every': 6, \"we're\": 1, 'plate': 1, 'sour': 1, 'jukebox': 1, 'now': 11, 'taxi': 1, 'fast': 1, 'bag': 1, 'man': 1, 'push': 3, 'baby': 14, 'going': 1, 'you': 16, \"don't\": 2, 'one': 1, 'mind': 2, 'backseat': 1, 'friends': 1, 'then': 3, 'know': 2, 'take': 1, 'play': 1, 'okay': 1, 'so': 2, 'begin': 1, 'start': 2, 'over': 1, 'body': 17, 'boy': 2, 'just': 1, 'we': 7, 'are': 1, 'girl': 2, 'tell': 1, 'singing': 2, 'drinking': 1, 'put': 3, 'our': 1, 'where': 1, \"i'll\": 1, 'all': 1, \"isn't\": 1, 'make': 1, 'lover': 1, 'get': 1, 'radio': 1, 'give': 1, \"i'm\": 23, 'like': 10, 'can': 1, 'doing': 2, 'with': 22, 'club': 1, 'come': 37, 'it': 1, 'somebody': 2, 'handmade': 2, 'out': 1, 'new': 6, 'room': 3, 'chance': 1, 'follow': 6, 'in': 27, 'may': 2, 'brand': 6, 'that': 2, 'magnet': 3, 'up': 3, 'first': 1, 'and': 23, 'pull': 3, 'of': 6, 'table': 1, 'much': 2, 'last': 3, 'i': 6, 'thrifty': 1, 'grab': 2, 'was': 2, 'driver': 1, 'slow': 1, 'dance': 1, 'the': 18, 'say': 2, 'trust': 1, 'family': 1, 'week': 1, 'date': 1, 'me': 10, 'do': 3, 'waist': 2, 'smell': 3, 'day': 6, 'although': 3, 'your': 21, 'leave': 1, 'want': 2, \"let's\": 2, 'lead': 6, 'at': 1, 'hand': 1, 'how': 1, 'talk': 4, 'not': 2, 'eat': 1, 'falling': 3, 'about': 1, 'story': 1, 'sweet': 1, 'best': 1, 'crazy': 2, 'let': 1, 'too': 5, 'van': 1, 'shots': 1, 'go': 2, 'to': 2, 'a': 8, 'my': 33, 'is': 5, 'place': 1, 'find': 1, 'shape': 6, 'on': 40, 'kiss': 1, 'were': 3, 'night': 3, 'heart': 3, 'for': 3, 'discovering': 6, 'something': 6, 'be': 16, 'bedsheets': 3, 'fill': 2, 'hours': 2, 'stop': 1, 'bar': 1}\n",
    "\n",
    "values =[]\n",
    "for keys in keys:\n",
    "     values.append(word_freq[key])"
   ]
  },
  {
   "cell_type": "code",
   "execution_count": null,
   "id": "8c65bf0d-40a8-41d4-8551-de47ef7d72f7",
   "metadata": {},
   "outputs": [],
   "source": [
    "word_freq2 = dict(zip(keys, values))"
   ]
  },
  {
   "cell_type": "code",
   "execution_count": null,
   "id": "9cb08731-6c5a-4bc5-81a1-90cee822acde",
   "metadata": {},
   "outputs": [],
   "source": [
    "word_freq2"
   ]
  },
  {
   "cell_type": "code",
   "execution_count": null,
   "id": "65fd5248-f87d-434b-b588-c66f5f5736a5",
   "metadata": {},
   "outputs": [],
   "source": [
    "# THEORY\n",
    "\n",
    "# El método append() agrega un solo elemento al final de la lista.\n",
    "\n",
    ">>> lista = [1, 2, 3]\n",
    ">>> lista.append(4)\n",
    ">>> print(lista)\n",
    "[1, 2, 3, 4]\n",
    "\n",
    "\n",
    "# el método extend() agrega los elementos de otra lista (o cualquier iterable) al final de la lista original.\n",
    "\n",
    ">>> lista1 = [1, 2, 3]\n",
    ">>> lista2 = [4, 5, 6]\n",
    ">>> lista1.extend(lista2)\n",
    ">>> print(lista1)\n",
    "[1, 2, 3, 4, 5, 6]\n"
   ]
  }
 ],
 "metadata": {
  "kernelspec": {
   "display_name": "Python 3 (ipykernel)",
   "language": "python",
   "name": "python3"
  },
  "language_info": {
   "codemirror_mode": {
    "name": "ipython",
    "version": 3
   },
   "file_extension": ".py",
   "mimetype": "text/x-python",
   "name": "python",
   "nbconvert_exporter": "python",
   "pygments_lexer": "ipython3",
   "version": "3.9.13"
  }
 },
 "nbformat": 4,
 "nbformat_minor": 5
}
