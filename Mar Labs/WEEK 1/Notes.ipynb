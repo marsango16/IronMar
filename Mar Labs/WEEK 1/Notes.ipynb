{
 "cells": [
  {
   "cell_type": "markdown",
   "id": "62dc22f7-aef9-4205-8683-ec76d959a330",
   "metadata": {},
   "source": [
    "# Concatenate Strings"
   ]
  },
  {
   "cell_type": "code",
   "execution_count": null,
   "id": "1f768c38-34f5-489d-a9d6-08fdbf840618",
   "metadata": {},
   "outputs": [],
   "source": [
    "# Al definir las variables, no se pueden incluir espacios en los nombres de las variables. \n",
    "# En lugar de \"string 1\", \"string 2\", etc., deben ser \"string1\", \"string2\", etc.\n",
    "\n",
    "string1 = \"Tommaso\"\n",
    "string2 = \"es\"\n",
    "string3 = \"mi\"\n",
    "string4 = \"chef\"\n",
    "\n",
    "print(string1+\" \"+string2+\" \"+string3+\" \"+string4)\n"
   ]
  },
  {
   "cell_type": "markdown",
   "id": "a5a1fba0-e7fe-400a-9168-e94cfdfe2f46",
   "metadata": {},
   "source": [
    "# Basic loop"
   ]
  },
  {
   "cell_type": "code",
   "execution_count": null,
   "id": "aa2a7c2e-7407-47da-b1c5-2e167da24ae7",
   "metadata": {},
   "outputs": [],
   "source": [
    "students = [\"tommaso\", \"mar\"] \n",
    "\n",
    "for student in students:\n",
    "    print(student + \" is a student!\")"
   ]
  },
  {
   "cell_type": "markdown",
   "id": "1e04f97c-9e66-458b-8b3e-3af7d92a7ee2",
   "metadata": {},
   "source": [
    "# Dictionaries"
   ]
  },
  {
   "cell_type": "code",
   "execution_count": 30,
   "id": "cac216c4-b49c-4ff9-bd2b-650331dfa2ef",
   "metadata": {},
   "outputs": [],
   "source": [
    "items = list(word_freq.items())"
   ]
  },
  {
   "cell_type": "markdown",
   "id": "f1348267-a584-4dd6-bba0-db54714953e9",
   "metadata": {},
   "source": [
    "# Alphabetical sorting (ordenar alfabeticamente)"
   ]
  },
  {
   "cell_type": "code",
   "execution_count": 32,
   "id": "b3cb194e-4ec3-4f1b-b339-99ff87a9981c",
   "metadata": {},
   "outputs": [],
   "source": [
    "items.sort()"
   ]
  },
  {
   "cell_type": "code",
   "execution_count": 49,
   "id": "b67f30cf-bd6e-407d-adc0-4c451c931abe",
   "metadata": {},
   "outputs": [
    {
     "data": {
      "text/plain": [
       "['a',\n",
       " 'about',\n",
       " 'all',\n",
       " 'although',\n",
       " 'and',\n",
       " 'are',\n",
       " 'at',\n",
       " 'baby',\n",
       " 'backseat',\n",
       " 'bag',\n",
       " 'bar',\n",
       " 'be',\n",
       " 'bedsheets',\n",
       " 'begin',\n",
       " 'best',\n",
       " 'body',\n",
       " 'boy',\n",
       " 'brand',\n",
       " 'can',\n",
       " 'chance',\n",
       " 'club',\n",
       " 'come',\n",
       " 'conversation',\n",
       " 'crazy',\n",
       " 'dance',\n",
       " 'date',\n",
       " 'day',\n",
       " 'discovering',\n",
       " 'do',\n",
       " 'doing',\n",
       " \"don't\",\n",
       " 'drinking',\n",
       " 'driver',\n",
       " 'eat',\n",
       " 'every',\n",
       " 'falling',\n",
       " 'family',\n",
       " 'fast',\n",
       " 'fill',\n",
       " 'find',\n",
       " 'first',\n",
       " 'follow',\n",
       " 'for',\n",
       " 'friends',\n",
       " 'get',\n",
       " 'girl',\n",
       " 'give',\n",
       " 'go',\n",
       " 'going',\n",
       " 'grab',\n",
       " 'hand',\n",
       " 'handmade',\n",
       " 'heart',\n",
       " 'hours',\n",
       " 'how',\n",
       " 'i',\n",
       " \"i'll\",\n",
       " \"i'm\",\n",
       " 'in',\n",
       " 'is',\n",
       " \"isn't\",\n",
       " 'it',\n",
       " 'jukebox',\n",
       " 'just',\n",
       " 'kiss',\n",
       " 'know',\n",
       " 'last',\n",
       " 'lead',\n",
       " 'leave',\n",
       " 'let',\n",
       " \"let's\",\n",
       " 'like',\n",
       " 'love',\n",
       " 'lover',\n",
       " 'magnet',\n",
       " 'make',\n",
       " 'man',\n",
       " 'may',\n",
       " 'me',\n",
       " 'mind',\n",
       " 'much',\n",
       " 'my',\n",
       " 'new',\n",
       " 'night',\n",
       " 'not',\n",
       " 'now',\n",
       " 'of',\n",
       " 'okay',\n",
       " 'on',\n",
       " 'one',\n",
       " 'our',\n",
       " 'out',\n",
       " 'over',\n",
       " 'place',\n",
       " 'plate',\n",
       " 'play',\n",
       " 'pull',\n",
       " 'push',\n",
       " 'put',\n",
       " 'radio',\n",
       " 'room',\n",
       " 'say',\n",
       " 'shape',\n",
       " 'shots',\n",
       " 'singing',\n",
       " 'slow',\n",
       " 'smell',\n",
       " 'so',\n",
       " 'somebody',\n",
       " 'something',\n",
       " 'sour',\n",
       " 'start',\n",
       " 'stop',\n",
       " 'story',\n",
       " 'sweet',\n",
       " 'table',\n",
       " 'take',\n",
       " 'talk',\n",
       " 'taxi',\n",
       " 'tell',\n",
       " 'that',\n",
       " 'the',\n",
       " 'then',\n",
       " 'thrifty',\n",
       " 'to',\n",
       " 'too',\n",
       " 'trust',\n",
       " 'up',\n",
       " 'van',\n",
       " 'waist',\n",
       " 'want',\n",
       " 'was',\n",
       " 'we',\n",
       " \"we're\",\n",
       " 'week',\n",
       " 'were',\n",
       " 'where',\n",
       " 'with',\n",
       " 'you',\n",
       " 'your']"
      ]
     },
     "execution_count": 49,
     "metadata": {},
     "output_type": "execute_result"
    }
   ],
   "source": [
    "keys"
   ]
  },
  {
   "cell_type": "markdown",
   "id": "da5b7546-2af0-4ce2-b253-3b5dd6ba8a78",
   "metadata": {},
   "source": [
    "# Dictionaries"
   ]
  },
  {
   "cell_type": "code",
   "execution_count": 42,
   "id": "4410cb7d-52b1-4031-be22-61e48bda3482",
   "metadata": {},
   "outputs": [],
   "source": [
    "word_freq = {'love': 25, 'conversation': 1, 'every': 6, \"we're\": 1, 'plate': 1, 'sour': 1, 'jukebox': 1, 'now': 11, 'taxi': 1, 'fast': 1, 'bag': 1, 'man': 1, 'push': 3, 'baby': 14, 'going': 1, 'you': 16, \"don't\": 2, 'one': 1, 'mind': 2, 'backseat': 1, 'friends': 1, 'then': 3, 'know': 2, 'take': 1, 'play': 1, 'okay': 1, 'so': 2, 'begin': 1, 'start': 2, 'over': 1, 'body': 17, 'boy': 2, 'just': 1, 'we': 7, 'are': 1, 'girl': 2, 'tell': 1, 'singing': 2, 'drinking': 1, 'put': 3, 'our': 1, 'where': 1, \"i'll\": 1, 'all': 1, \"isn't\": 1, 'make': 1, 'lover': 1, 'get': 1, 'radio': 1, 'give': 1, \"i'm\": 23, 'like': 10, 'can': 1, 'doing': 2, 'with': 22, 'club': 1, 'come': 37, 'it': 1, 'somebody': 2, 'handmade': 2, 'out': 1, 'new': 6, 'room': 3, 'chance': 1, 'follow': 6, 'in': 27, 'may': 2, 'brand': 6, 'that': 2, 'magnet': 3, 'up': 3, 'first': 1, 'and': 23, 'pull': 3, 'of': 6, 'table': 1, 'much': 2, 'last': 3, 'i': 6, 'thrifty': 1, 'grab': 2, 'was': 2, 'driver': 1, 'slow': 1, 'dance': 1, 'the': 18, 'say': 2, 'trust': 1, 'family': 1, 'week': 1, 'date': 1, 'me': 10, 'do': 3, 'waist': 2, 'smell': 3, 'day': 6, 'although': 3, 'your': 21, 'leave': 1, 'want': 2, \"let's\": 2, 'lead': 6, 'at': 1, 'hand': 1, 'how': 1, 'talk': 4, 'not': 2, 'eat': 1, 'falling': 3, 'about': 1, 'story': 1, 'sweet': 1, 'best': 1, 'crazy': 2, 'let': 1, 'too': 5, 'van': 1, 'shots': 1, 'go': 2, 'to': 2, 'a': 8, 'my': 33, 'is': 5, 'place': 1, 'find': 1, 'shape': 6, 'on': 40, 'kiss': 1, 'were': 3, 'night': 3, 'heart': 3, 'for': 3, 'discovering': 6, 'something': 6, 'be': 16, 'bedsheets': 3, 'fill': 2, 'hours': 2, 'stop': 1, 'bar': 1}\n",
    "\n",
    "values = []\n",
    "for item in keys:\n",
    "    values.append(word_freq[item])"
   ]
  },
  {
   "cell_type": "code",
   "execution_count": 43,
   "id": "8c65bf0d-40a8-41d4-8551-de47ef7d72f7",
   "metadata": {},
   "outputs": [],
   "source": [
    "# zip = order item with value\n",
    "\n",
    "word_freq2 = dict(zip(keys, values))"
   ]
  },
  {
   "cell_type": "code",
   "execution_count": 44,
   "id": "9cb08731-6c5a-4bc5-81a1-90cee822acde",
   "metadata": {},
   "outputs": [
    {
     "data": {
      "text/plain": [
       "{'a': 8,\n",
       " 'about': 1,\n",
       " 'all': 1,\n",
       " 'although': 3,\n",
       " 'and': 23,\n",
       " 'are': 1,\n",
       " 'at': 1,\n",
       " 'baby': 14,\n",
       " 'backseat': 1,\n",
       " 'bag': 1,\n",
       " 'bar': 1,\n",
       " 'be': 16,\n",
       " 'bedsheets': 3,\n",
       " 'begin': 1,\n",
       " 'best': 1,\n",
       " 'body': 17,\n",
       " 'boy': 2,\n",
       " 'brand': 6,\n",
       " 'can': 1,\n",
       " 'chance': 1,\n",
       " 'club': 1,\n",
       " 'come': 37,\n",
       " 'conversation': 1,\n",
       " 'crazy': 2,\n",
       " 'dance': 1,\n",
       " 'date': 1,\n",
       " 'day': 6,\n",
       " 'discovering': 6,\n",
       " 'do': 3,\n",
       " 'doing': 2,\n",
       " \"don't\": 2,\n",
       " 'drinking': 1,\n",
       " 'driver': 1,\n",
       " 'eat': 1,\n",
       " 'every': 6,\n",
       " 'falling': 3,\n",
       " 'family': 1,\n",
       " 'fast': 1,\n",
       " 'fill': 2,\n",
       " 'find': 1,\n",
       " 'first': 1,\n",
       " 'follow': 6,\n",
       " 'for': 3,\n",
       " 'friends': 1,\n",
       " 'get': 1,\n",
       " 'girl': 2,\n",
       " 'give': 1,\n",
       " 'go': 2,\n",
       " 'going': 1,\n",
       " 'grab': 2,\n",
       " 'hand': 1,\n",
       " 'handmade': 2,\n",
       " 'heart': 3,\n",
       " 'hours': 2,\n",
       " 'how': 1,\n",
       " 'i': 6,\n",
       " \"i'll\": 1,\n",
       " \"i'm\": 23,\n",
       " 'in': 27,\n",
       " 'is': 5,\n",
       " \"isn't\": 1,\n",
       " 'it': 1,\n",
       " 'jukebox': 1,\n",
       " 'just': 1,\n",
       " 'kiss': 1,\n",
       " 'know': 2,\n",
       " 'last': 3,\n",
       " 'lead': 6,\n",
       " 'leave': 1,\n",
       " 'let': 1,\n",
       " \"let's\": 2,\n",
       " 'like': 10,\n",
       " 'love': 25,\n",
       " 'lover': 1,\n",
       " 'magnet': 3,\n",
       " 'make': 1,\n",
       " 'man': 1,\n",
       " 'may': 2,\n",
       " 'me': 10,\n",
       " 'mind': 2,\n",
       " 'much': 2,\n",
       " 'my': 33,\n",
       " 'new': 6,\n",
       " 'night': 3,\n",
       " 'not': 2,\n",
       " 'now': 11,\n",
       " 'of': 6,\n",
       " 'okay': 1,\n",
       " 'on': 40,\n",
       " 'one': 1,\n",
       " 'our': 1,\n",
       " 'out': 1,\n",
       " 'over': 1,\n",
       " 'place': 1,\n",
       " 'plate': 1,\n",
       " 'play': 1,\n",
       " 'pull': 3,\n",
       " 'push': 3,\n",
       " 'put': 3,\n",
       " 'radio': 1,\n",
       " 'room': 3,\n",
       " 'say': 2,\n",
       " 'shape': 6,\n",
       " 'shots': 1,\n",
       " 'singing': 2,\n",
       " 'slow': 1,\n",
       " 'smell': 3,\n",
       " 'so': 2,\n",
       " 'somebody': 2,\n",
       " 'something': 6,\n",
       " 'sour': 1,\n",
       " 'start': 2,\n",
       " 'stop': 1,\n",
       " 'story': 1,\n",
       " 'sweet': 1,\n",
       " 'table': 1,\n",
       " 'take': 1,\n",
       " 'talk': 4,\n",
       " 'taxi': 1,\n",
       " 'tell': 1,\n",
       " 'that': 2,\n",
       " 'the': 18,\n",
       " 'then': 3,\n",
       " 'thrifty': 1,\n",
       " 'to': 2,\n",
       " 'too': 5,\n",
       " 'trust': 1,\n",
       " 'up': 3,\n",
       " 'van': 1,\n",
       " 'waist': 2,\n",
       " 'want': 2,\n",
       " 'was': 2,\n",
       " 'we': 7,\n",
       " \"we're\": 1,\n",
       " 'week': 1,\n",
       " 'were': 3,\n",
       " 'where': 1,\n",
       " 'with': 22,\n",
       " 'you': 16,\n",
       " 'your': 21}"
      ]
     },
     "execution_count": 44,
     "metadata": {},
     "output_type": "execute_result"
    }
   ],
   "source": [
    "word_freq2"
   ]
  },
  {
   "cell_type": "markdown",
   "id": "13e5525b-b58a-495a-83ec-1e821071c4d4",
   "metadata": {},
   "source": [
    "## Python List append() method / ## Python List extend() method"
   ]
  },
  {
   "cell_type": "code",
   "execution_count": 1,
   "id": "4ae16936-dd51-4971-8c7d-3e7286ae31cc",
   "metadata": {},
   "outputs": [
    {
     "name": "stdout",
     "output_type": "stream",
     "text": [
      "[1, 2, 3, 4]\n",
      "[1, 2, 3, 4, 5, 6]\n"
     ]
    }
   ],
   "source": [
    "\n",
    "# El método append() agrega un solo elemento al final de la lista.\n",
    "\n",
    "lista = [1, 2, 3]\n",
    "lista.append(4)\n",
    "print(lista)\n",
    "\n",
    "\n",
    "# el método extend() agrega los elementos de otra lista (o cualquier iterable) al final de la lista original.\n",
    "\n",
    "lista1 = [1, 2, 3]\n",
    "lista2 = [4, 5, 6]\n",
    "lista1.extend(lista2)\n",
    "print(lista1)\n"
   ]
  },
  {
   "cell_type": "code",
   "execution_count": 8,
   "id": "b9d84d14-15f5-4e67-85ba-fe4ecb58b2c4",
   "metadata": {},
   "outputs": [
    {
     "name": "stdout",
     "output_type": "stream",
     "text": [
      "[1]\n",
      "[1, 2]\n",
      "[1, 2, 3]\n",
      "[1, 2, 3, 4]\n",
      "[1, 2, 3, 4, 5]\n",
      "[1, 2, 3, 4, 5, 6]\n",
      "[1, 2, 3, 4, 5, 6, 7]\n",
      "[1, 2, 3, 4, 5, 6, 7, 8]\n",
      "[1, 2, 3, 4, 5, 6, 7, 8, 9]\n",
      "[1, 2, 3, 4, 5, 6, 7, 8, 9, 10]\n"
     ]
    }
   ],
   "source": [
    "my_list = [  ]\n",
    "\n",
    "for i in range(1,11):\n",
    "    my_list.append(i)\n",
    "    print(my_list)"
   ]
  },
  {
   "cell_type": "code",
   "execution_count": 88,
   "id": "09cd5202-30df-423d-a344-18e7468cbe47",
   "metadata": {},
   "outputs": [
    {
     "data": {
      "text/plain": [
       "180"
      ]
     },
     "execution_count": 88,
     "metadata": {},
     "output_type": "execute_result"
    }
   ],
   "source": [
    "##. take any number and multiply it by 15\n",
    "def product_by_constant(input_num):\n",
    "    return input_num * 15\n",
    "    \n",
    "product_by_constant(12)"
   ]
  },
  {
   "cell_type": "markdown",
   "id": "56fe8cea-c5ff-42e0-ba24-d566a70fbe48",
   "metadata": {},
   "source": [
    "## function definition "
   ]
  },
  {
   "cell_type": "code",
   "execution_count": 82,
   "id": "25ac4c9a-ab89-42e8-931b-b978ec16b921",
   "metadata": {},
   "outputs": [],
   "source": [
    "def adding_constant(input_var):\n",
    "    result= input_var+0  ##logic \n",
    "\n",
    "    return result"
   ]
  },
  {
   "cell_type": "code",
   "execution_count": 83,
   "id": "ab4777cb-1d89-48d7-96ed-828fc938c275",
   "metadata": {},
   "outputs": [
    {
     "data": {
      "text/plain": [
       "0"
      ]
     },
     "execution_count": 83,
     "metadata": {},
     "output_type": "execute_result"
    }
   ],
   "source": [
    "adding_constant(0)"
   ]
  },
  {
   "cell_type": "markdown",
   "id": "5aabb91a-da93-445a-aa45-47e3f3eac49a",
   "metadata": {},
   "source": [
    "##  function calling / executing "
   ]
  },
  {
   "cell_type": "code",
   "execution_count": 62,
   "id": "e6aafd77-9a7c-4fa2-bba5-07d6a3542395",
   "metadata": {},
   "outputs": [],
   "source": [
    "y=1\n",
    "z=2\n",
    "q=3"
   ]
  },
  {
   "cell_type": "code",
   "execution_count": 84,
   "id": "eb091ab5-37b6-42fc-8687-60fe1c47a4ab",
   "metadata": {},
   "outputs": [
    {
     "name": "stdout",
     "output_type": "stream",
     "text": [
      "1\n",
      "2\n",
      "3\n"
     ]
    }
   ],
   "source": [
    "##. Executing the function. ,  calling the function   user-defined function \n",
    "print(adding_constant(y))\n",
    "print(adding_constant(z))\n",
    "print(adding_constant(q))"
   ]
  },
  {
   "cell_type": "markdown",
   "id": "f24211cc-ccf1-486b-b9e3-29b163b3476f",
   "metadata": {},
   "source": [
    "### Built-in function"
   ]
  },
  {
   "cell_type": "code",
   "execution_count": 65,
   "id": "3b478dc6-8829-49c1-bca8-35c202c78d4b",
   "metadata": {},
   "outputs": [
    {
     "data": {
      "text/plain": [
       "3"
      ]
     },
     "execution_count": 65,
     "metadata": {},
     "output_type": "execute_result"
    }
   ],
   "source": [
    "x= 3.476\n",
    "round(x)"
   ]
  },
  {
   "cell_type": "code",
   "execution_count": 85,
   "id": "e76a6266-8353-449b-8fc0-a1d3196a92fb",
   "metadata": {},
   "outputs": [],
   "source": [
    "## take any number and multiply it by 15\n",
    "def product_by_constant(input_num):\n",
    "    return input_num * 15"
   ]
  },
  {
   "cell_type": "code",
   "execution_count": 86,
   "id": "35600af9-4ed8-4420-8589-0134b933f347",
   "metadata": {},
   "outputs": [
    {
     "data": {
      "text/plain": [
       "15"
      ]
     },
     "execution_count": 86,
     "metadata": {},
     "output_type": "execute_result"
    }
   ],
   "source": [
    "product_by_constant(1)"
   ]
  },
  {
   "cell_type": "code",
   "execution_count": 74,
   "id": "7a11f35d-96f2-4b00-9d73-4e7342439ff3",
   "metadata": {},
   "outputs": [],
   "source": [
    "def process_sensor_data(input_var):\n",
    "    added_result= adding_constant(input_var)\n",
    "    multiplied_result=product_by_constant(added_result)\n",
    "    \n",
    "    return multiplied_result "
   ]
  },
  {
   "cell_type": "code",
   "execution_count": 91,
   "id": "f43a6f2e-b6a4-4edc-88fe-5862525d9cd6",
   "metadata": {},
   "outputs": [
    {
     "data": {
      "text/plain": [
       "15"
      ]
     },
     "execution_count": 91,
     "metadata": {},
     "output_type": "execute_result"
    }
   ],
   "source": [
    "process_sensor_data(1)"
   ]
  },
  {
   "cell_type": "code",
   "execution_count": 92,
   "id": "26b4e0f8-cb19-49c4-94d5-162c1639e921",
   "metadata": {},
   "outputs": [
    {
     "name": "stdout",
     "output_type": "stream",
     "text": [
      "There are 22 students at Ironhack Data Analytics - January 2023 Lukas Bauerschmidt is one of them.\n",
      "There are 3 teachers at Ironhack Data Analytics - January 2023. . Aleks is one of them.\n"
     ]
    }
   ],
   "source": [
    "import random\n",
    "\n",
    "# some data\n",
    "students = [\"Ahmet Salih Yurdakul\",\"Ajay Krishna\", \"Aycha Kurtulush-Tanriverdi\", \n",
    "          \"Danilo Giarlini Giarlini\", \"David Guillet\", \"Duo Deng Deng\", \n",
    "          \"Erica D'alessandro Junho De Lemos\", \"Hanna Weidemann\", \"Henrik Gerhard\", \n",
    "          \"Laurens Duin\", \"Leo Krohne\", \"Lukas Bauerschmidt\", \"Markus Schmidt\", \n",
    "          \"Miguel Lucia Bayer\", \"Nilgun Bayrakdar Sadik\", \"Oksana Leigh\", \"Pedro Da Rocha Paes Pinto\", \n",
    "          \"Pengcheng Zhang\", \"Poppy Nevin\", \"Shola Popoola\", \"Simone Broggini\", \"Vladislav Lis\"]\n",
    "teachers = [\"Aleks\", \"Javier\", \"Peter\"]\n",
    "\n",
    "# we can use a print statment every time\n",
    "print(\"There are \" + str(len(students)) + \" students at Ironhack Data Analytics - January 2023 \" + str(random.choice(students)) + \" is one of them.\")\n",
    "print(\"There are \" + str(len(teachers)) + \" teachers at Ironhack Data Analytics - January 2023. . \" + str(random.choice(teachers)) + \" is one of them.\")"
   ]
  },
  {
   "cell_type": "code",
   "execution_count": null,
   "id": "c1550583-b4e5-401b-adf8-3da63c4be9a6",
   "metadata": {},
   "outputs": [],
   "source": []
  }
 ],
 "metadata": {
  "kernelspec": {
   "display_name": "Python 3 (ipykernel)",
   "language": "python",
   "name": "python3"
  },
  "language_info": {
   "codemirror_mode": {
    "name": "ipython",
    "version": 3
   },
   "file_extension": ".py",
   "mimetype": "text/x-python",
   "name": "python",
   "nbconvert_exporter": "python",
   "pygments_lexer": "ipython3",
   "version": "3.9.13"
  }
 },
 "nbformat": 4,
 "nbformat_minor": 5
}
