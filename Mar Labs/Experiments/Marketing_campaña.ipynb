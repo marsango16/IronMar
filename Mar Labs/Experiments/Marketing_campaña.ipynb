{
 "cells": [
  {
   "cell_type": "code",
   "execution_count": 21,
   "id": "2f00faba-012d-46fe-9aa6-0a24d785b08c",
   "metadata": {},
   "outputs": [],
   "source": [
    "import pandas as pd\n",
    "\n",
    "# load campaign data into a pandas DataFrame\n",
    "campaign_data = pd.read_excel('Campaign.xlsx')\n",
    "\n",
    "# calculate click-through rate (CTR)\n",
    "ctr = campaign_data['Clicks'] / campaign_data['Impresiones']\n",
    "\n",
    "# calculate conversion rate (CVR)"
   ]
  },
  {
   "cell_type": "code",
   "execution_count": 22,
   "id": "151170ac-079d-4de6-bf10-13287cbaa80a",
   "metadata": {},
   "outputs": [
    {
     "name": "stdout",
     "output_type": "stream",
     "text": [
      "   Impresiones    CTR  Clicks  Coste CPC   %CR  LEADS  COSTE TOTAL  CPL\n",
      "0      1000000  0.003    3000        0.5  0.05    150         1500   10\n"
     ]
    }
   ],
   "source": [
    "print(campaign_data.head())"
   ]
  },
  {
   "cell_type": "code",
   "execution_count": null,
   "id": "f72474b3-f668-466d-b740-968cc3d3dc12",
   "metadata": {},
   "outputs": [],
   "source": []
  }
 ],
 "metadata": {
  "kernelspec": {
   "display_name": "Python 3 (ipykernel)",
   "language": "python",
   "name": "python3"
  },
  "language_info": {
   "codemirror_mode": {
    "name": "ipython",
    "version": 3
   },
   "file_extension": ".py",
   "mimetype": "text/x-python",
   "name": "python",
   "nbconvert_exporter": "python",
   "pygments_lexer": "ipython3",
   "version": "3.9.13"
  }
 },
 "nbformat": 4,
 "nbformat_minor": 5
}
