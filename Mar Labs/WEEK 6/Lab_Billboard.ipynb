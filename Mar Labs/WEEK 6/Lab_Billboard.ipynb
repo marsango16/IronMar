{
 "cells": [
  {
   "cell_type": "code",
   "execution_count": 1,
   "id": "4562a3a2-450d-4a86-91f6-7ff0d79c5913",
   "metadata": {},
   "outputs": [],
   "source": [
    "import requests\n",
    "\n",
    "url = 'https://www.billboard.com/charts/hot-100/#'\n",
    "response = requests.get(url)"
   ]
  },
  {
   "cell_type": "code",
   "execution_count": 2,
   "id": "1a57c2b9-ff9c-47fc-9ea7-74ea0ada6c8a",
   "metadata": {},
   "outputs": [],
   "source": [
    "from bs4 import BeautifulSoup\n",
    "\n",
    "soup = BeautifulSoup(response.content, 'html.parser')"
   ]
  },
  {
   "cell_type": "code",
   "execution_count": 6,
   "id": "1700cd21-3a57-4929-8636-66f8dddab881",
   "metadata": {},
   "outputs": [
    {
     "name": "stdout",
     "output_type": "stream",
     "text": [
      "Kill Bill\n"
     ]
    }
   ],
   "source": [
    "html_code = '<h3 id=\"\" class=\"c-title  a-font-primary-bold-l a-font-primary-bold-m@mobile-max lrv-u-color-black u-color-white@mobile-max lrv-u-margin-r-150\"><a href=\"#\" class=\"c-title__link lrv-a-unstyle-link\">Kill Bill</a></h3>'\n",
    "\n",
    "soup = BeautifulSoup(html_code, 'html.parser')\n",
    "song = soup.find('a', {'class': 'c-title__link'}).text.strip()\n",
    "\n",
    "print(song)"
   ]
  },
  {
   "cell_type": "code",
   "execution_count": 7,
   "id": "2ba90f1d-42bd-40a4-9ee7-c80f6c4ec2a6",
   "metadata": {},
   "outputs": [],
   "source": [
    "song_titles = soup.find_all('span', {'class': 'chart-element__information__song text--truncate color--primary'})\n",
    "artist_names = soup.find_all('span', {'class': 'chart-element__information__artist text--truncate color--secondary'})"
   ]
  },
  {
   "cell_type": "code",
   "execution_count": 9,
   "id": "ef7b2f9e-bce6-405f-93fd-8ae87069839b",
   "metadata": {},
   "outputs": [
    {
     "name": "stdout",
     "output_type": "stream",
     "text": [
      "[]\n"
     ]
    }
   ],
   "source": [
    "artists_songs = []\n",
    "\n",
    "for i in range(len(song_titles)):\n",
    "    song = song_titles[i].text.strip()\n",
    "    artist = artist_names[i].text.strip()\n",
    "    artists_songs.append(f'{artist} - {song}')\n",
    "\n",
    "print(artists_songs)"
   ]
  }
 ],
 "metadata": {
  "kernelspec": {
   "display_name": "Python 3 (ipykernel)",
   "language": "python",
   "name": "python3"
  },
  "language_info": {
   "codemirror_mode": {
    "name": "ipython",
    "version": 3
   },
   "file_extension": ".py",
   "mimetype": "text/x-python",
   "name": "python",
   "nbconvert_exporter": "python",
   "pygments_lexer": "ipython3",
   "version": "3.9.13"
  }
 },
 "nbformat": 4,
 "nbformat_minor": 5
}
