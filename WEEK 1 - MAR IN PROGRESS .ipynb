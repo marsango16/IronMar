{
 "cells": [
  {
   "cell_type": "code",
   "execution_count": 1,
   "id": "89ae5674",
   "metadata": {},
   "outputs": [],
   "source": [
    "# HELLO WORLD"
   ]
  },
  {
   "cell_type": "code",
   "execution_count": 4,
   "id": "8c232912",
   "metadata": {},
   "outputs": [
    {
     "name": "stdout",
     "output_type": "stream",
     "text": [
      "Enter Name: Obama\n",
      "name\n"
     ]
    }
   ],
   "source": [
    "# My purpose of this notebook will be introducing someone holidays\n",
    "name = input(\"Enter Name: \")\n",
    "print(\"name\")"
   ]
  },
  {
   "cell_type": "code",
   "execution_count": null,
   "id": "f54d7772",
   "metadata": {},
   "outputs": [],
   "source": []
  },
  {
   "cell_type": "code",
   "execution_count": null,
   "id": "2277750b",
   "metadata": {},
   "outputs": [],
   "source": []
  },
  {
   "cell_type": "code",
   "execution_count": null,
   "id": "68a16c60",
   "metadata": {},
   "outputs": [],
   "source": []
  }
 ],
 "metadata": {
  "kernelspec": {
   "display_name": "Python 3 (ipykernel)",
   "language": "python",
   "name": "python3"
  },
  "language_info": {
   "codemirror_mode": {
    "name": "ipython",
    "version": 3
   },
   "file_extension": ".py",
   "mimetype": "text/x-python",
   "name": "python",
   "nbconvert_exporter": "python",
   "pygments_lexer": "ipython3",
   "version": "3.9.13"
  }
 },
 "nbformat": 4,
 "nbformat_minor": 5
}
